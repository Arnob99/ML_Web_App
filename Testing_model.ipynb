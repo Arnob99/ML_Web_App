{
 "cells": [
  {
   "cell_type": "code",
   "execution_count": 103,
   "id": "3b7589e9-ef92-4300-aca2-a4d0c31b775c",
   "metadata": {},
   "outputs": [],
   "source": [
    "from ProcessData import *\n",
    "from keras.models import load_model\n",
    "model = load_model('model.h5', compile=True)"
   ]
  },
  {
   "cell_type": "code",
   "execution_count": 104,
   "id": "98513400-cfea-4971-8ee4-572c3c51c246",
   "metadata": {},
   "outputs": [
    {
     "ename": "NameError",
     "evalue": "name 'tokenizer' is not defined",
     "output_type": "error",
     "traceback": [
      "\u001b[1;31m---------------------------------------------------------------------------\u001b[0m",
      "\u001b[1;31mNameError\u001b[0m                                 Traceback (most recent call last)",
      "Input \u001b[1;32mIn [104]\u001b[0m, in \u001b[0;36m<module>\u001b[1;34m\u001b[0m\n\u001b[1;32m----> 1\u001b[0m y_preds \u001b[38;5;241m=\u001b[39m (model\u001b[38;5;241m.\u001b[39mpredict(\u001b[43mpreprocess_data\u001b[49m\u001b[43m(\u001b[49m\u001b[38;5;124;43m\"\u001b[39;49m\u001b[38;5;124;43mHi, my name is Arnob\u001b[39;49m\u001b[38;5;124;43m\"\u001b[39;49m\u001b[43m)\u001b[49m) \u001b[38;5;241m>\u001b[39m \u001b[38;5;241m0.5\u001b[39m)\u001b[38;5;241m.\u001b[39mastype(\u001b[38;5;124m\"\u001b[39m\u001b[38;5;124mint32\u001b[39m\u001b[38;5;124m\"\u001b[39m)\n",
      "File \u001b[1;32mE:\\Documents\\Arnob\\Project\\6th Semester\\ML Project\\ProcessData.py:49\u001b[0m, in \u001b[0;36mpreprocess_data\u001b[1;34m(text)\u001b[0m\n\u001b[0;32m     46\u001b[0m text \u001b[38;5;241m=\u001b[39m stem_text(text)\n\u001b[0;32m     47\u001b[0m text \u001b[38;5;241m=\u001b[39m pd\u001b[38;5;241m.\u001b[39mSeries(text)\n\u001b[0;32m     48\u001b[0m text \u001b[38;5;241m=\u001b[39m pad_sequences(\n\u001b[1;32m---> 49\u001b[0m     \u001b[43membed\u001b[49m\u001b[43m(\u001b[49m\u001b[43mtext\u001b[49m\u001b[43m)\u001b[49m, \n\u001b[0;32m     50\u001b[0m     \u001b[38;5;241m101\u001b[39m, \n\u001b[0;32m     51\u001b[0m     padding\u001b[38;5;241m=\u001b[39m\u001b[38;5;124m'\u001b[39m\u001b[38;5;124mpost\u001b[39m\u001b[38;5;124m'\u001b[39m\n\u001b[0;32m     52\u001b[0m )\n\u001b[0;32m     53\u001b[0m \u001b[38;5;28;01mreturn\u001b[39;00m text\n",
      "File \u001b[1;32mE:\\Documents\\Arnob\\Project\\6th Semester\\ML Project\\ProcessData.py:39\u001b[0m, in \u001b[0;36membed\u001b[1;34m(corpus)\u001b[0m\n\u001b[0;32m     38\u001b[0m \u001b[38;5;28;01mdef\u001b[39;00m \u001b[38;5;21membed\u001b[39m(corpus): \n\u001b[1;32m---> 39\u001b[0m     \u001b[38;5;28;01mreturn\u001b[39;00m \u001b[43mtokenizer\u001b[49m\u001b[38;5;241m.\u001b[39mtexts_to_sequences(corpus)\n",
      "\u001b[1;31mNameError\u001b[0m: name 'tokenizer' is not defined"
     ]
    }
   ],
   "source": [
    "y_preds = (model.predict(preprocess_data(\"Hi, my name is Arnob\")) > 0.5).astype(\"int32\")"
   ]
  },
  {
   "cell_type": "code",
   "execution_count": 93,
   "id": "4d64fa01-361b-4c61-8feb-53406a6790da",
   "metadata": {},
   "outputs": [
    {
     "data": {
      "text/plain": [
       "array([[0]])"
      ]
     },
     "execution_count": 93,
     "metadata": {},
     "output_type": "execute_result"
    }
   ],
   "source": [
    "y_preds"
   ]
  },
  {
   "cell_type": "code",
   "execution_count": null,
   "id": "a9a91020-c160-42a4-9b4b-9087a4c64a4e",
   "metadata": {},
   "outputs": [],
   "source": []
  }
 ],
 "metadata": {
  "kernelspec": {
   "display_name": "Python 3 (ipykernel)",
   "language": "python",
   "name": "python3"
  },
  "language_info": {
   "codemirror_mode": {
    "name": "ipython",
    "version": 3
   },
   "file_extension": ".py",
   "mimetype": "text/x-python",
   "name": "python",
   "nbconvert_exporter": "python",
   "pygments_lexer": "ipython3",
   "version": "3.10.2"
  }
 },
 "nbformat": 4,
 "nbformat_minor": 5
}
