{
 "cells": [
  {
   "cell_type": "code",
   "execution_count": 1,
   "id": "3b7589e9-ef92-4300-aca2-a4d0c31b775c",
   "metadata": {},
   "outputs": [],
   "source": [
    "from ProcessData import *\n",
    "from keras.models import load_model\n",
    "model = load_model('model.h5', compile=True)"
   ]
  },
  {
   "cell_type": "code",
   "execution_count": 2,
   "id": "98513400-cfea-4971-8ee4-572c3c51c246",
   "metadata": {},
   "outputs": [
    {
     "name": "stdout",
     "output_type": "stream",
     "text": [
      "1/1 [==============================] - 0s 334ms/step\n"
     ]
    }
   ],
   "source": [
    "y_preds = (model.predict(preprocess_data(\"Earn money, just click here!\")) > 0.5).astype(\"int\")[0][0]"
   ]
  },
  {
   "cell_type": "code",
   "execution_count": 3,
   "id": "4d64fa01-361b-4c61-8feb-53406a6790da",
   "metadata": {},
   "outputs": [
    {
     "data": {
      "text/plain": [
       "1"
      ]
     },
     "execution_count": 3,
     "metadata": {},
     "output_type": "execute_result"
    }
   ],
   "source": [
    "y_preds"
   ]
  },
  {
   "cell_type": "code",
   "execution_count": null,
   "id": "a9a91020-c160-42a4-9b4b-9087a4c64a4e",
   "metadata": {},
   "outputs": [],
   "source": []
  },
  {
   "cell_type": "code",
   "execution_count": null,
   "id": "bd2450b6-0eff-40bf-b768-243497005964",
   "metadata": {},
   "outputs": [],
   "source": []
  }
 ],
 "metadata": {
  "kernelspec": {
   "display_name": "Python 3 (ipykernel)",
   "language": "python",
   "name": "python3"
  },
  "language_info": {
   "codemirror_mode": {
    "name": "ipython",
    "version": 3
   },
   "file_extension": ".py",
   "mimetype": "text/x-python",
   "name": "python",
   "nbconvert_exporter": "python",
   "pygments_lexer": "ipython3",
   "version": "3.10.2"
  }
 },
 "nbformat": 4,
 "nbformat_minor": 5
}
